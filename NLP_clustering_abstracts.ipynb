{
 "cells": [
  {
   "cell_type": "markdown",
   "id": "0a05447b",
   "metadata": {},
   "source": [
    "## Student: Arina Odnoblyudova; Student number: 1011616"
   ]
  },
  {
   "cell_type": "markdown",
   "id": "ef25ea2c",
   "metadata": {},
   "source": [
    "## Libraries"
   ]
  },
  {
   "cell_type": "code",
   "execution_count": 159,
   "id": "c7ea9401",
   "metadata": {},
   "outputs": [],
   "source": [
    "import re\n",
    "import nltk\n",
    "from nltk.tokenize import word_tokenize, RegexpTokenizer\n",
    "from nltk.stem import PorterStemmer, WordNetLemmatizer\n",
    "from nltk.stem.snowball import SnowballStemmer\n",
    "from nltk.corpus import stopwords\n",
    "from nltk.probability import FreqDist\n",
    "\n",
    "from sklearn.feature_extraction.text import TfidfVectorizer, CountVectorizer\n",
    "from string import punctuation\n",
    "from sklearn.cluster import KMeans, SpectralClustering\n",
    "from sklearn.mixture import GaussianMixture\n",
    "from sklearn.metrics import normalized_mutual_info_score, silhouette_score\n",
    "from sklearn.metrics.pairwise import cosine_similarity\n",
    "from sklearn.decomposition import TruncatedSVD, PCA\n",
    "from scipy.cluster.hierarchy import ward, dendrogram, fcluster\n",
    "from sklearn.pipeline import make_pipeline\n",
    "from sklearn.preprocessing import Normalizer\n",
    "\n",
    "import pandas as pd\n",
    "import numpy as np\n",
    "\n",
    "from matplotlib import pyplot as plt\n",
    "import seaborn as sns\n",
    "\n",
    "import random"
   ]
  },
  {
   "cell_type": "markdown",
   "id": "5752d259",
   "metadata": {},
   "source": [
    "## Download resources"
   ]
  },
  {
   "cell_type": "code",
   "execution_count": 160,
   "id": "1a2f3226",
   "metadata": {},
   "outputs": [],
   "source": [
    "#Uncomment to download resources\n",
    "#nltk.download('stopwords')\n",
    "#nltk.download('punkt')\n",
    "#nltk.download('wordnet')\n",
    "#!pip install bertopic\n",
    "#!pip install sentence-transformers"
   ]
  },
  {
   "cell_type": "markdown",
   "id": "d08416f9",
   "metadata": {},
   "source": [
    "## 0. Data download and exploration"
   ]
  },
  {
   "cell_type": "code",
   "execution_count": 161,
   "id": "8af63fef",
   "metadata": {},
   "outputs": [],
   "source": [
    "df = pd.read_csv('abstractdata5.csv', sep='#', header=None)\n",
    "df.columns = ['id','class','title','abstract']\n",
    "true_classes = list(df['class'])"
   ]
  },
  {
   "cell_type": "code",
   "execution_count": 162,
   "id": "d15117f8",
   "metadata": {},
   "outputs": [
    {
     "name": "stdout",
     "output_type": "stream",
     "text": [
      "There are:  1332 texts in data.\n"
     ]
    }
   ],
   "source": [
    "print('There are: ', df.shape[0], 'texts in data.')"
   ]
  },
  {
   "cell_type": "markdown",
   "id": "504e5b6f",
   "metadata": {},
   "source": [
    "The most common class is the first one. However, we cannot say that the number of texts in the classes is too uneven, all classes are represented by a sufficient number of texts in the dataset."
   ]
  },
  {
   "cell_type": "code",
   "execution_count": 163,
   "id": "170482dd",
   "metadata": {},
   "outputs": [
    {
     "data": {
      "image/png": "[encoded data removed]",
      "text/plain": [
       "<Figure size 432x288 with 1 Axes>"
      ]
     },
     "metadata": {
      "needs_background": "light"
     },
     "output_type": "display_data"
    }
   ],
   "source": [
    "fig, ax = plt.subplots()\n",
    "sns.countplot(x=\"class\", data=df, axes=ax, palette=sns.color_palette(\"rocket\"))\n",
    "plt.title(\"Number of texts per class\")\n",
    "plt.show()"
   ]
  },
  {
   "cell_type": "markdown",
   "id": "506d6c9a",
   "metadata": {},
   "source": [
    "It'd be useful to look at representatives of each class."
   ]
  },
  {
   "cell_type": "markdown",
   "id": "40ac468b",
   "metadata": {},
   "source": [
    "**First class**"
   ]
  },
  {
   "cell_type": "code",
   "execution_count": 164,
   "id": "6d83c005",
   "metadata": {},
   "outputs": [
    {
     "data": {
      "text/plain": [
       "'Anomaly detection in wide area imagery [Geniş alan görüntülerinde anomali tespiti]'"
      ]
     },
     "execution_count": 164,
     "metadata": {},
     "output_type": "execute_result"
    }
   ],
   "source": [
    "df[df['class']==1].iloc[0,2]"
   ]
  },
  {
   "cell_type": "code",
   "execution_count": 165,
   "id": "577f6214",
   "metadata": {},
   "outputs": [
    {
     "data": {
      "text/plain": [
       "'This study is about detecting anomalies in wide area imagery collected from an aircraft. The set of anomalies have been identified as anything out of the normal course of action. For this purpose, two different data sets were used and the experiments were carried out on these data sets. For anomaly detection, a convolutional neural network model that tries to generate the next image using past images is designed. The images were pre-processed before being given to the model. Anomaly detection is'"
      ]
     },
     "execution_count": 165,
     "metadata": {},
     "output_type": "execute_result"
    }
   ],
   "source": [
    "df[df['class']==1].iloc[0,3][:500]"
   ]
  },
  {
   "cell_type": "markdown",
   "id": "86d76c7b",
   "metadata": {},
   "source": [
    "**Second class**"
   ]
  },
  {
   "cell_type": "code",
   "execution_count": 166,
   "id": "143a26ed",
   "metadata": {},
   "outputs": [
    {
     "data": {
      "text/plain": [
       "'Extracting multiple viewpoint models from relational databases'"
      ]
     },
     "execution_count": 166,
     "metadata": {},
     "output_type": "execute_result"
    }
   ],
   "source": [
    "df[df['class']==2].iloc[0,2]"
   ]
  },
  {
   "cell_type": "code",
   "execution_count": 167,
   "id": "e79168de",
   "metadata": {},
   "outputs": [
    {
     "data": {
      "text/plain": [
       "'Much time in process mining projects is spent on finding and understanding data sources and extracting the event data needed. As a result, only a fraction of time is spent actually applying techniques to discover, control and predict the business process. Moreover, current process mining techniques assume a single case notion. However, in real-life processes often different case notions are intertwined. For example, events of the same order handling process may refer to customers, orders, order '"
      ]
     },
     "execution_count": 167,
     "metadata": {},
     "output_type": "execute_result"
    }
   ],
   "source": [
    "df[df['class']==2].iloc[0,3][:500]"
   ]
  },
  {
   "cell_type": "markdown",
   "id": "885c47c3",
   "metadata": {},
   "source": [
    "**Third class**"
   ]
  },
  {
   "cell_type": "code",
   "execution_count": 168,
   "id": "870ad09d",
   "metadata": {},
   "outputs": [
    {
     "data": {
      "text/plain": [
       "'Mask then classify: multi-instance segmentation for surgical instruments'"
      ]
     },
     "execution_count": 168,
     "metadata": {},
     "output_type": "execute_result"
    }
   ],
   "source": [
    "df[df['class']==3].iloc[0,2]"
   ]
  },
  {
   "cell_type": "code",
   "execution_count": 169,
   "id": "49d56bc5",
   "metadata": {},
   "outputs": [
    {
     "data": {
      "text/plain": [
       "'Purpose: The detection and segmentation of surgical instruments has been a vital step for many applications in minimally invasive surgical robotics. Previously, the problem was tackled from a semantic segmentation perspective, yet these methods fail to provide good segmentation maps of instrument types and do not contain any information on the instance affiliation of each pixel. We propose to overcome this limitation by using a novel instance segmentation method which first masks instruments and'"
      ]
     },
     "execution_count": 169,
     "metadata": {},
     "output_type": "execute_result"
    }
   ],
   "source": [
    "df[df['class']==3].iloc[0,3][:500]"
   ]
  },
  {
   "cell_type": "markdown",
   "id": "e4cecead",
   "metadata": {},
   "source": [
    "**Forth class**"
   ]
  },
  {
   "cell_type": "code",
   "execution_count": 170,
   "id": "1982dd47",
   "metadata": {},
   "outputs": [
    {
     "data": {
      "text/plain": [
       "'Post-quantum secure multi-party private set-intersection in star network topology'"
      ]
     },
     "execution_count": 170,
     "metadata": {},
     "output_type": "execute_result"
    }
   ],
   "source": [
    "df[df['class']==4].iloc[0,2]"
   ]
  },
  {
   "cell_type": "code",
   "execution_count": 171,
   "id": "b0fa2ed2",
   "metadata": {},
   "outputs": [
    {
     "data": {
      "text/plain": [
       "'In many realistic scenarios, participants wish to perform some secret set operations such as intersection, union, cardinality of intersection, etc. on their private data sets. Private Set Intersection (PSI) plays a major role in addressing such problems. PSI is one of the widely used secure multi-party computation technique that allows the participants to securely compute the intersection of their private input sets and nothing beyond that. It is generally executed between two parties. When the '"
      ]
     },
     "execution_count": 171,
     "metadata": {},
     "output_type": "execute_result"
    }
   ],
   "source": [
    "df[df['class']==4].iloc[0,3][:500]"
   ]
  },
  {
   "cell_type": "markdown",
   "id": "1855239c",
   "metadata": {},
   "source": [
    "**Fifth class**"
   ]
  },
  {
   "cell_type": "code",
   "execution_count": 172,
   "id": "be91cd48",
   "metadata": {},
   "outputs": [
    {
     "data": {
      "text/plain": [
       "'Towards an energy efficient code generator for mobile phones'"
      ]
     },
     "execution_count": 172,
     "metadata": {},
     "output_type": "execute_result"
    }
   ],
   "source": [
    "df[df['class']==5].iloc[0,2]"
   ]
  },
  {
   "cell_type": "code",
   "execution_count": 173,
   "id": "2b366e29",
   "metadata": {},
   "outputs": [
    {
     "data": {
      "text/plain": [
       "\"Using a smartphone become the part of our everyday life in the last few years. These devices can help us in many areas of life (sport, job, weather etc.), but sometimes can be also very annoying because of the battery life time. That is why it is very important to find solutions, which can reduce the energy consumption of the smartphones. One possible method is the 'computation offloading' where a part of the processes are executed on a remote device (e.g. in the cloud). A lot of example has alr\""
      ]
     },
     "execution_count": 173,
     "metadata": {},
     "output_type": "execute_result"
    }
   ],
   "source": [
    "df[df['class']==5].iloc[0,3][:500]"
   ]
  },
  {
   "cell_type": "markdown",
   "id": "fde5c934",
   "metadata": {},
   "source": [
    "Perhaps it is premature, but all topics are in one way or another related to technology, IT, data processing, as seen from the texts."
   ]
  },
  {
   "cell_type": "markdown",
   "id": "2d5839a3",
   "metadata": {},
   "source": [
    "## 1. Baseline solution"
   ]
  },
  {
   "cell_type": "markdown",
   "id": "12dd7c32",
   "metadata": {},
   "source": [
    "### 1.1 Data preprocessing"
   ]
  },
  {
   "cell_type": "markdown",
   "id": "c7103580",
   "metadata": {},
   "source": [
    "Combination of title and abstract."
   ]
  },
  {
   "cell_type": "code",
   "execution_count": 174,
   "id": "c876d785",
   "metadata": {},
   "outputs": [],
   "source": [
    "df1 = df.copy()\n",
    "df1['title_text'] = df1['title'] + \" \" + df1['abstract']\n",
    "df1.drop(['title','abstract'], axis=1, inplace=True)"
   ]
  },
  {
   "cell_type": "markdown",
   "id": "b3c5b3a4",
   "metadata": {},
   "source": [
    "Tokenization. A numpy ndarray class instance is made of the size (1332,). Where each row - a list, representing the text. It is rather convenient to operate with this matrix."
   ]
  },
  {
   "cell_type": "code",
   "execution_count": 175,
   "id": "d319eea5",
   "metadata": {},
   "outputs": [],
   "source": [
    "texts = pd.Series.to_numpy(df1['title_text'].apply(word_tokenize))"
   ]
  },
  {
   "cell_type": "markdown",
   "id": "d4665f8e",
   "metadata": {},
   "source": [
    "Removement of stopwords."
   ]
  },
  {
   "cell_type": "code",
   "execution_count": 176,
   "id": "f0dd7af9",
   "metadata": {},
   "outputs": [
    {
     "name": "stdout",
     "output_type": "stream",
     "text": [
      "Stop words we are using from NLTK:\n",
      "{'\\\\', '\"', ')', 'she', '{', 'd', 'i', '_', 'with', 'who', 'a', 'against', 'ourselves', \"mightn't\", 'won', 'had', ',', 'my', 'too', '.', \"you'll\", 'couldn', 'we', \"you've\", 'through', 'any', 'there', 's', 'them', 't', 'it', 've', '?', 'off', 'doing', 'about', 'hasn', '`', 'yourselves', 'up', 'should', 'just', 'so', 'after', 'other', 'm', ':', \"wasn't\", \"haven't\", 'did', 'by', 'wasn', 'same', 'ours', 'aren', 'yours', '...', 'but', 'while', 'has', \"mustn't\", 'being', 'further', 'don', \"should've\", 'do', '^', \"you're\", '$', 'no', 'you', 'than', 'this', 'ma', 'is', 'whom', 'was', \"didn't\", '#', 'doesn', \"you'd\", 'the', 'over', 'if', 'some', 're', \"weren't\", 'having', 'himself', 'theirs', 'in', \"that'll\", 'once', 'between', 'our', 'he', 'then', 'that', 'during', '@', 'its', 'yourself', \"she's\", 'be', 'before', 'only', \"couldn't\", \"hadn't\", 'haven', 'were', '%', 'hers', '}', 'for', '=', 'will', 'your', '<', 'her', '!', 'me', '~', 'both', '[', 'wouldn', 'these', 'isn', ']', 'such', 'at', 'they', 'which', 'or', \"won't\", 'shan', \"needn't\", 'to', '*', 'nor', 'themselves', \"doesn't\", 'does', 'shouldn', 'needn', 'most', 'his', 'why', '+', 'until', 'when', \"isn't\", '|', 'where', 'll', \"shan't\", 'didn', 'above', 'now', 'myself', 'mightn', 'into', '-', '/', ';', 'on', 'can', 'are', \"shouldn't\", \"hasn't\", 'more', \"it's\", 'down', 'weren', 'am', 'those', 'what', 'and', 'all', 'hadn', 'o', '>', 'very', 'how', 'not', 'here', \"wouldn't\", '(', 'because', \"aren't\", 'again', 'an', 'have', '&', 'mustn', 'y', 'as', 'of', 'own', 'under', 'itself', 'out', 'from', 'each', 'ain', 'their', 'been', 'few', 'him', 'herself', \"don't\", \"'\", 'below'}\n"
     ]
    }
   ],
   "source": [
    "stop_words = set(stopwords.words('english'))\n",
    "\n",
    "# Punctuation is included in the stop words set.\n",
    "stop_words.update(punctuation)\n",
    "stop_words.add(\"...\")\n",
    "stop_words.add(\".\")\n",
    "\n",
    "print('Stop words we are using from NLTK:')\n",
    "print(stop_words)"
   ]
  },
  {
   "cell_type": "code",
   "execution_count": 177,
   "id": "c784092e",
   "metadata": {},
   "outputs": [],
   "source": [
    "texts_stage1 = []\n",
    "for text in texts:\n",
    "    filtered_text = [w for w in text if not w.lower() in stop_words]\n",
    "    texts_stage1.append(filtered_text)"
   ]
  },
  {
   "cell_type": "markdown",
   "id": "ddeb0366",
   "metadata": {},
   "source": [
    "Stemming of the remaining words"
   ]
  },
  {
   "cell_type": "code",
   "execution_count": 178,
   "id": "92878a18",
   "metadata": {},
   "outputs": [],
   "source": [
    "#Porter stemming is used\n",
    "ps = PorterStemmer()"
   ]
  },
  {
   "cell_type": "code",
   "execution_count": 179,
   "id": "65f46433",
   "metadata": {},
   "outputs": [],
   "source": [
    "texts_stage2 = []\n",
    "for text in texts_stage1:\n",
    "    stemmed_text = [ps.stem(w) for w in text]\n",
    "    texts_stage2.append(' '.join(stemmed_text))"
   ]
  },
  {
   "cell_type": "markdown",
   "id": "29a348af",
   "metadata": {},
   "source": [
    "### 1.2 Representation"
   ]
  },
  {
   "cell_type": "markdown",
   "id": "48669fb4",
   "metadata": {},
   "source": [
    "The data is represented in tf-idf form. Sklearn offers length-normalized versions."
   ]
  },
  {
   "cell_type": "code",
   "execution_count": 180,
   "id": "6cda24dd",
   "metadata": {},
   "outputs": [],
   "source": [
    "vectorizer = TfidfVectorizer()\n",
    "X = vectorizer.fit_transform(texts_stage2)"
   ]
  },
  {
   "cell_type": "code",
   "execution_count": 181,
   "id": "0f4dcdbf",
   "metadata": {},
   "outputs": [
    {
     "data": {
      "text/plain": [
       "(1332, 9646)"
      ]
     },
     "execution_count": 181,
     "metadata": {},
     "output_type": "execute_result"
    }
   ],
   "source": [
    "X.shape"
   ]
  },
  {
   "cell_type": "markdown",
   "id": "cce0126f",
   "metadata": {},
   "source": [
    "### Clustering - KMeans"
   ]
  },
  {
   "cell_type": "code",
   "execution_count": 182,
   "id": "df74c45e",
   "metadata": {},
   "outputs": [],
   "source": [
    "kmeans = KMeans(n_clusters=5, random_state=2021).fit(X)\n",
    "classes = kmeans.labels_"
   ]
  },
  {
   "cell_type": "code",
   "execution_count": 183,
   "id": "26e97cc3",
   "metadata": {},
   "outputs": [
    {
     "name": "stdout",
     "output_type": "stream",
     "text": [
      "The NMI is:  0.7196\n"
     ]
    }
   ],
   "source": [
    "nmi = normalized_mutual_info_score(classes, true_classes, average_method='geometric')\n",
    "print('The NMI is: ', round(nmi,4))"
   ]
  },
  {
   "cell_type": "markdown",
   "id": "bbce1585",
   "metadata": {},
   "source": [
    "As we can see, the results are not that bad. The NMI value results between 0 (no mutual information) and 1 (perfect correlation), here it is 0.72, so the results are reasonable."
   ]
  },
  {
   "cell_type": "markdown",
   "id": "a7ec99e8",
   "metadata": {},
   "source": [
    "Without a doubt, the model can be more complex, so the next ones are build in further steps and the quality is compared to baseline."
   ]
  },
  {
   "cell_type": "markdown",
   "id": "0e4642c1",
   "metadata": {},
   "source": [
    "## 2. Advanced solutions\n",
    "\n",
    "## 2.1 First model"
   ]
  },
  {
   "cell_type": "markdown",
   "id": "5243760b",
   "metadata": {},
   "source": [
    "### Data preprocessing"
   ]
  },
  {
   "cell_type": "markdown",
   "id": "25e87d96",
   "metadata": {},
   "source": [
    "On that stage deeper preprocessing will be made, than in the baseline model."
   ]
  },
  {
   "cell_type": "markdown",
   "id": "af02c5ac",
   "metadata": {},
   "source": [
    "Combination of title and abstract."
   ]
  },
  {
   "cell_type": "code",
   "execution_count": 184,
   "id": "b9b67fe6",
   "metadata": {},
   "outputs": [],
   "source": [
    "df2 = df.copy()\n",
    "df2['title_text'] = df2['title'] + \" \" + df2['abstract']\n",
    "df2.drop(['title','abstract'], axis=1, inplace=True)"
   ]
  },
  {
   "cell_type": "markdown",
   "id": "8c06b765",
   "metadata": {},
   "source": [
    "Tokenization. A numpy ndarray class instance is made of the size (1332,). Where each row - a list, representing the text. It is rather convenient to operate with this matrix."
   ]
  },
  {
   "cell_type": "code",
   "execution_count": 185,
   "id": "733ea626",
   "metadata": {},
   "outputs": [],
   "source": [
    "texts2 = pd.Series.to_numpy(df2['title_text'].apply(word_tokenize))"
   ]
  },
  {
   "cell_type": "markdown",
   "id": "086bbcf5",
   "metadata": {},
   "source": [
    "Removement of stopwords."
   ]
  },
  {
   "cell_type": "code",
   "execution_count": 186,
   "id": "ae977353",
   "metadata": {},
   "outputs": [],
   "source": [
    "texts2_stage1 = []\n",
    "for text in texts2:\n",
    "    filtered_text = [w for w in text if not w.lower() in stop_words]\n",
    "    texts2_stage1.append(filtered_text)"
   ]
  },
  {
   "cell_type": "markdown",
   "id": "8c6cc218",
   "metadata": {},
   "source": [
    "Lemmatization is performed after removing the stop words."
   ]
  },
  {
   "cell_type": "code",
   "execution_count": 187,
   "id": "171ea8b1",
   "metadata": {},
   "outputs": [],
   "source": [
    "lemmatizer = WordNetLemmatizer()"
   ]
  },
  {
   "cell_type": "code",
   "execution_count": 188,
   "id": "7a13e2da",
   "metadata": {},
   "outputs": [],
   "source": [
    "texts2_stage2 = []\n",
    "for text in texts2_stage1:\n",
    "    lemm_text = [lemmatizer.lemmatize(w.lower()) for w in text]\n",
    "    texts2_stage2.append(lemm_text)"
   ]
  },
  {
   "cell_type": "markdown",
   "id": "c8d76eb8",
   "metadata": {},
   "source": [
    "Removement of numbers and words with length, lower than 4. Also links are removed from text."
   ]
  },
  {
   "cell_type": "code",
   "execution_count": 189,
   "id": "9f081481",
   "metadata": {},
   "outputs": [],
   "source": [
    "texts2_stage3 = []\n",
    "for text in texts2_stage2:\n",
    "    nonums_text = [re.sub(r'\\d+','',word) for word in text]\n",
    "    nonums_text = [word for word in text if all([\"http\" not in word, \"/\" not in word])]\n",
    "    nonums_text = [w for w in nonums_text if all([w,len(w)>3])]\n",
    "    texts2_stage3.append(nonums_text)"
   ]
  },
  {
   "cell_type": "markdown",
   "id": "9d5c30f5",
   "metadata": {},
   "source": [
    "Checking possible candidate-words to add to stop-words."
   ]
  },
  {
   "cell_type": "code",
   "execution_count": 190,
   "id": "e1f8849e",
   "metadata": {},
   "outputs": [],
   "source": [
    "candidates = []\n",
    "for text in texts2_stage3:\n",
    "    candidates = candidates + text"
   ]
  },
  {
   "cell_type": "code",
   "execution_count": 191,
   "id": "5dc13ab0",
   "metadata": {},
   "outputs": [
    {
     "name": "stdout",
     "output_type": "stream",
     "text": [
      "[('system', 1419), ('data', 1394), ('method', 992), ('model', 962), ('using', 942), ('proposed', 840), ('algorithm', 800), ('based', 796), ('image', 764), ('database', 725), ('approach', 711), ('paper', 711), ('result', 697), ('application', 648), ('performance', 585), ('used', 563), ('network', 554), ('information', 541), ('robot', 517), ('learning', 507), ('technique', 493), ('security', 484), ('compiler', 473), ('analysis', 469), ('time', 463), ('design', 455), ('show', 441), ('different', 440), ('also', 435), ('study', 430), ('computer', 425), ('present', 425), ('detection', 418), ('problem', 416), ('scheme', 416), ('work', 393), ('feature', 373), ('process', 357), ('task', 345), ('vision', 341), ('however', 340), ('quantum', 340), ('framework', 339), ('control', 339), ('research', 336), ('technology', 336), ('language', 329), ('relational', 324), ('object', 318), ('program', 311), ('code', 302), ('environment', 297), ('architecture', 287), ('implementation', 285), ('user', 284), ('accuracy', 275), ('number', 265), ('propose', 262), ('query', 260), ('cryptography', 255), ('efficient', 253), ('structure', 252), ('protocol', 250), ('deep', 249), ('encryption', 248), ('tool', 248), ('development', 246), ('existing', 245), ('graph', 242), ('visual', 240), ('attack', 238), ('experiment', 234), ('compared', 233), ('high', 233), ('first', 230), ('secure', 228), ('novel', 226), ('type', 226), ('optimization', 224), ('solution', 221), ('many', 217), ('field', 217), ('device', 216), ('operation', 215), ('dynamic', 215), ('provide', 212), ('training', 211), ('neural', 206), ('machine', 206), ('video', 205), ('computation', 204), ('memory', 204), ('cloud', 202), ('various', 200), ('test', 197), ('function', 197), ('communication', 197), ('case', 195), ('software', 194), ('human', 193), ('large', 192), ('challenge', 189), ('sensor', 189), ('multiple', 187), ('evaluation', 187), ('processing', 184), ('developed', 184), ('area', 183), ('robotic', 183), ('order', 182), ('level', 182), ('dataset', 182), ('error', 182), ('important', 181), ('size', 181), ('experimental', 176), ('computing', 176), ('well', 176), ('hardware', 176), ('need', 174), ('improve', 173), ('tracking', 173), ('without', 171), ('support', 171), ('strategy', 171), ('parameter', 168), ('three', 167), ('better', 166), ('several', 164), ('construction', 162), ('transformation', 161), ('standard', 160), ('measurement', 159), ('theory', 157), ('complex', 156), ('programming', 156), ('point', 156), ('state', 156), ('vehicle', 156), ('camera', 155), ('speed', 155), ('recognition', 153), ('provides', 152), ('value', 151), ('recent', 149), ('implemented', 149), ('cost', 149), ('domain', 148), ('make', 148), ('current', 144)]\n"
     ]
    }
   ],
   "source": [
    "freq = FreqDist(candidates)\n",
    "print(freq.most_common(150))"
   ]
  },
  {
   "cell_type": "markdown",
   "id": "94f8100e",
   "metadata": {},
   "source": [
    "Here we see that some frequent words are not meaningful and they can be added to stop ones. The cell below is edited during the whole process of making the report (and new stopwords are added)"
   ]
  },
  {
   "cell_type": "code",
   "execution_count": 192,
   "id": "a2176b74",
   "metadata": {},
   "outputs": [],
   "source": [
    "stop_words.add('many')\n",
    "stop_words.add('well')\n",
    "stop_words.add('using')\n",
    "stop_words.add('used')"
   ]
  },
  {
   "cell_type": "markdown",
   "id": "74c82946",
   "metadata": {},
   "source": [
    "Again deleting stop-words from abstracts."
   ]
  },
  {
   "cell_type": "code",
   "execution_count": 193,
   "id": "9b4c8495",
   "metadata": {},
   "outputs": [],
   "source": [
    "texts2_stage4, texts2_stage4_1 = [], []\n",
    "for text in texts2_stage3:\n",
    "    filtered_text = [w for w in text if not w in stop_words]\n",
    "    txt = ' '.join(filtered_text)\n",
    "    texts2_stage4.append(txt.encode(\"ascii\", \"ignore\").decode())\n",
    "    texts2_stage4_1.append(filtered_text)"
   ]
  },
  {
   "cell_type": "markdown",
   "id": "491791db",
   "metadata": {},
   "source": [
    "### Representation"
   ]
  },
  {
   "cell_type": "markdown",
   "id": "28e1e084",
   "metadata": {},
   "source": [
    "The data is represented in tf-idf form. Sklearn offers length-normalized versions. Also, top 800 max_features ordered by term frequency across the corpus are presented, it performs better than when we have huge number of features. "
   ]
  },
  {
   "cell_type": "code",
   "execution_count": 194,
   "id": "67c31ae4",
   "metadata": {},
   "outputs": [],
   "source": [
    "vectorizer2 = TfidfVectorizer(max_features=800, ngram_range=(1,3))\n",
    "X2 = vectorizer2.fit_transform(texts2_stage4)"
   ]
  },
  {
   "cell_type": "code",
   "execution_count": 195,
   "id": "85080a1d",
   "metadata": {},
   "outputs": [
    {
     "data": {
      "text/plain": [
       "(1332, 800)"
      ]
     },
     "execution_count": 195,
     "metadata": {},
     "output_type": "execute_result"
    }
   ],
   "source": [
    "X2.shape"
   ]
  },
  {
   "cell_type": "markdown",
   "id": "a48f1422",
   "metadata": {},
   "source": [
    "### Clustering - KMeans"
   ]
  },
  {
   "cell_type": "code",
   "execution_count": 196,
   "id": "75ba1fea",
   "metadata": {},
   "outputs": [],
   "source": [
    "kmeans2 = KMeans(n_clusters=5, random_state=2021).fit(X2)\n",
    "classes2 = kmeans2.labels_"
   ]
  },
  {
   "cell_type": "code",
   "execution_count": 197,
   "id": "76785fcf",
   "metadata": {},
   "outputs": [
    {
     "data": {
      "image/png": "[encoded data removed]",
      "text/plain": [
       "<Figure size 432x288 with 1 Axes>"
      ]
     },
     "metadata": {
      "needs_background": "light"
     },
     "output_type": "display_data"
    }
   ],
   "source": [
    "plt.title(\"Number of texts in predicted classes\")\n",
    "plt.bar(FreqDist(classes2).keys(), FreqDist(classes2).values(), color='palevioletred')\n",
    "plt.show()"
   ]
  },
  {
   "cell_type": "code",
   "execution_count": 198,
   "id": "ce161a09",
   "metadata": {},
   "outputs": [
    {
     "name": "stdout",
     "output_type": "stream",
     "text": [
      "The NMI is:  0.73\n"
     ]
    }
   ],
   "source": [
    "nmi2 = normalized_mutual_info_score(classes2, true_classes, average_method='geometric')\n",
    "print('The NMI is: ', round(nmi2,2))"
   ]
  },
  {
   "cell_type": "markdown",
   "id": "f4647177",
   "metadata": {},
   "source": [
    "As we can see, the NMI for KMeans increased a bit. Here lemmatization instead of stemming was used, maybe it affected the results. The data cleaning, I think, affected the results, too."
   ]
  },
  {
   "cell_type": "code",
   "execution_count": 199,
   "id": "51b0ba42",
   "metadata": {},
   "outputs": [],
   "source": [
    "def top_words_per_topic(topic, classes, docs_words):\n",
    "    words = []\n",
    "    indices = [idx for idx, element in enumerate(classes) if element==topic]\n",
    "    for idx in indices:\n",
    "        words = words + docs_words[idx]\n",
    "    return FreqDist(words).most_common(10)"
   ]
  },
  {
   "cell_type": "code",
   "execution_count": 200,
   "id": "30e54200",
   "metadata": {},
   "outputs": [
    {
     "name": "stdout",
     "output_type": "stream",
     "text": [
      "First topic words:\n"
     ]
    },
    {
     "data": {
      "text/plain": [
       "[('compiler', 438),\n",
       " ('program', 248),\n",
       " ('language', 241),\n",
       " ('code', 210),\n",
       " ('system', 174),\n",
       " ('paper', 155),\n",
       " ('graph', 149),\n",
       " ('application', 147),\n",
       " ('memory', 143),\n",
       " ('approach', 130)]"
      ]
     },
     "execution_count": 200,
     "metadata": {},
     "output_type": "execute_result"
    }
   ],
   "source": [
    "print(\"First topic words:\")\n",
    "top_words_per_topic(0, classes2, texts2_stage4_1)"
   ]
  },
  {
   "cell_type": "code",
   "execution_count": 201,
   "id": "f75b2c68",
   "metadata": {},
   "outputs": [
    {
     "name": "stdout",
     "output_type": "stream",
     "text": [
      "Second topic words:\n"
     ]
    },
    {
     "data": {
      "text/plain": [
       "[('security', 426),\n",
       " ('scheme', 333),\n",
       " ('quantum', 325),\n",
       " ('data', 311),\n",
       " ('proposed', 274),\n",
       " ('cryptography', 246),\n",
       " ('protocol', 233),\n",
       " ('algorithm', 232),\n",
       " ('encryption', 231),\n",
       " ('attack', 212)]"
      ]
     },
     "execution_count": 201,
     "metadata": {},
     "output_type": "execute_result"
    }
   ],
   "source": [
    "print(\"Second topic words:\")\n",
    "top_words_per_topic(1, classes2, texts2_stage4_1)"
   ]
  },
  {
   "cell_type": "code",
   "execution_count": 202,
   "id": "6b40381d",
   "metadata": {},
   "outputs": [
    {
     "name": "stdout",
     "output_type": "stream",
     "text": [
      "Third topic words:\n"
     ]
    },
    {
     "data": {
      "text/plain": [
       "[('image', 610),\n",
       " ('method', 536),\n",
       " ('model', 417),\n",
       " ('detection', 366),\n",
       " ('system', 338),\n",
       " ('network', 317),\n",
       " ('vision', 315),\n",
       " ('learning', 310),\n",
       " ('proposed', 305),\n",
       " ('computer', 294)]"
      ]
     },
     "execution_count": 202,
     "metadata": {},
     "output_type": "execute_result"
    }
   ],
   "source": [
    "print(\"Third topic words:\")\n",
    "top_words_per_topic(2, classes2, texts2_stage4_1)"
   ]
  },
  {
   "cell_type": "code",
   "execution_count": 203,
   "id": "92d88e28",
   "metadata": {},
   "outputs": [
    {
     "name": "stdout",
     "output_type": "stream",
     "text": [
      "Forth topic words:\n"
     ]
    },
    {
     "data": {
      "text/plain": [
       "[('robot', 497),\n",
       " ('system', 438),\n",
       " ('control', 239),\n",
       " ('method', 178),\n",
       " ('robotic', 174),\n",
       " ('task', 170),\n",
       " ('model', 170),\n",
       " ('result', 166),\n",
       " ('approach', 163),\n",
       " ('study', 144)]"
      ]
     },
     "execution_count": 203,
     "metadata": {},
     "output_type": "execute_result"
    }
   ],
   "source": [
    "print(\"Forth topic words:\")\n",
    "top_words_per_topic(3, classes2, texts2_stage4_1)"
   ]
  },
  {
   "cell_type": "code",
   "execution_count": 204,
   "id": "a1a20391",
   "metadata": {},
   "outputs": [
    {
     "name": "stdout",
     "output_type": "stream",
     "text": [
      "Fifth topic words:\n"
     ]
    },
    {
     "data": {
      "text/plain": [
       "[('database', 667),\n",
       " ('data', 566),\n",
       " ('relational', 312),\n",
       " ('system', 260),\n",
       " ('query', 236),\n",
       " ('information', 170),\n",
       " ('model', 155),\n",
       " ('approach', 148),\n",
       " ('paper', 105),\n",
       " ('application', 92)]"
      ]
     },
     "execution_count": 204,
     "metadata": {},
     "output_type": "execute_result"
    }
   ],
   "source": [
    "print(\"Fifth topic words:\")\n",
    "top_words_per_topic(4, classes2, texts2_stage4_1)"
   ]
  },
  {
   "cell_type": "markdown",
   "id": "514555a3",
   "metadata": {},
   "source": [
    "### Clustering - Spectral Clustering"
   ]
  },
  {
   "cell_type": "code",
   "execution_count": 205,
   "id": "49359d01",
   "metadata": {},
   "outputs": [
    {
     "name": "stdout",
     "output_type": "stream",
     "text": [
      "The NMI is:  0.69\n"
     ]
    }
   ],
   "source": [
    "spectral2 = SpectralClustering(n_clusters=5, random_state=2021).fit(X2)\n",
    "classes2_1 = spectral2.labels_\n",
    "\n",
    "nmi2_1 = normalized_mutual_info_score(classes2_1, true_classes, average_method='geometric')\n",
    "print('The NMI is: ', round(nmi2_1,2))"
   ]
  },
  {
   "cell_type": "markdown",
   "id": "b6f2ada9",
   "metadata": {},
   "source": [
    "Spectral clustering showed worse results than the KMeans here.\n",
    "\n",
    "Let's test next model with stemming, but with the same data cleaning."
   ]
  },
  {
   "cell_type": "markdown",
   "id": "b757e128",
   "metadata": {},
   "source": [
    "## 2.2 Second model\n",
    "\n",
    "\n",
    "### Data preprocessing"
   ]
  },
  {
   "cell_type": "markdown",
   "id": "1b939a5a",
   "metadata": {},
   "source": [
    "In that model the same data processing will be made, like in First model, but the stemming will be used instead of lemmatization.\n",
    "\n",
    "Combination of title and abstract."
   ]
  },
  {
   "cell_type": "code",
   "execution_count": 206,
   "id": "66674c0a",
   "metadata": {},
   "outputs": [],
   "source": [
    "df3 = df.copy()\n",
    "df3['title_text'] = df3['title'] + \" \" + df3['abstract']\n",
    "df3.drop(['title','abstract'], axis=1, inplace=True)"
   ]
  },
  {
   "cell_type": "markdown",
   "id": "4440d81c",
   "metadata": {},
   "source": [
    "Tokenization. A numpy ndarray class instance is made of the size (1332,). Where each row - a list, representing the text. It is rather convenient to operate with this matrix."
   ]
  },
  {
   "cell_type": "code",
   "execution_count": 207,
   "id": "065e894a",
   "metadata": {},
   "outputs": [],
   "source": [
    "texts3 = pd.Series.to_numpy(df3['title_text'].apply(word_tokenize))"
   ]
  },
  {
   "cell_type": "markdown",
   "id": "350a4f48",
   "metadata": {},
   "source": [
    "Removement of stopwords."
   ]
  },
  {
   "cell_type": "code",
   "execution_count": 208,
   "id": "d45c0894",
   "metadata": {},
   "outputs": [],
   "source": [
    "texts3_stage1 = []\n",
    "for text in texts3:\n",
    "    filtered_text = [w for w in text if not w.lower() in stop_words]\n",
    "    texts3_stage1.append(filtered_text)"
   ]
  },
  {
   "cell_type": "markdown",
   "id": "7346b8ab",
   "metadata": {},
   "source": [
    "Stemming is performed."
   ]
  },
  {
   "cell_type": "code",
   "execution_count": 209,
   "id": "e4afbdb7",
   "metadata": {},
   "outputs": [],
   "source": [
    "ps1 = PorterStemmer()\n",
    "\n",
    "texts3_stage2 = []\n",
    "for text in texts3_stage1:\n",
    "    stem_text = [ps1.stem(w.lower()) for w in text]\n",
    "    texts3_stage2.append(stem_text)\n",
    "    \n",
    "texts3_stage2 = np.array(texts3_stage2, dtype=object)"
   ]
  },
  {
   "cell_type": "markdown",
   "id": "775e1641",
   "metadata": {},
   "source": [
    "Removement of numbers and deleting words with length, lower than 4."
   ]
  },
  {
   "cell_type": "code",
   "execution_count": 210,
   "id": "882c128a",
   "metadata": {},
   "outputs": [],
   "source": [
    "texts3_stage3, texts3_stage3_1 = [], []\n",
    "for text in texts3_stage2:\n",
    "    nonums_text = [re.sub(r'\\d+','',word) for word in text]\n",
    "    nonums_text = [word for word in text if all([\"http\" not in word, \"/\" not in word])]\n",
    "    nonums_text = [w for w in nonums_text if all([w, len(w)>3])]\n",
    "    texts3_stage3.append(' '.join(nonums_text))\n",
    "    texts3_stage3_1.append(nonums_text)"
   ]
  },
  {
   "cell_type": "markdown",
   "id": "abb95f7c",
   "metadata": {},
   "source": [
    "### Representation"
   ]
  },
  {
   "cell_type": "markdown",
   "id": "f8f663f7",
   "metadata": {},
   "source": [
    "The data is represented in tf-idf form. Sklearn offers length-normalized versions."
   ]
  },
  {
   "cell_type": "code",
   "execution_count": 211,
   "id": "ae199127",
   "metadata": {},
   "outputs": [
    {
     "data": {
      "text/plain": [
       "(1332, 800)"
      ]
     },
     "execution_count": 211,
     "metadata": {},
     "output_type": "execute_result"
    }
   ],
   "source": [
    "vectorizer3 = TfidfVectorizer(max_features=800, ngram_range=(1,3))\n",
    "X3 = vectorizer3.fit_transform(texts3_stage3)\n",
    "\n",
    "X3.shape"
   ]
  },
  {
   "cell_type": "markdown",
   "id": "27c4a178",
   "metadata": {},
   "source": [
    "### Clustering - KMeans"
   ]
  },
  {
   "cell_type": "code",
   "execution_count": 212,
   "id": "b44bfad2",
   "metadata": {},
   "outputs": [
    {
     "name": "stdout",
     "output_type": "stream",
     "text": [
      "The NMI is:  0.76\n"
     ]
    }
   ],
   "source": [
    "kmeans3 = KMeans(n_clusters=5, random_state=2021).fit(X3)\n",
    "classes3 = kmeans3.labels_\n",
    "\n",
    "nmi3 = normalized_mutual_info_score(classes3, true_classes, average_method='geometric')\n",
    "print('The NMI is: ', round(nmi3,2))"
   ]
  },
  {
   "cell_type": "markdown",
   "id": "27968203",
   "metadata": {},
   "source": [
    "As we can see, cleaning the words increased KMeans performance with stemming a bit. The same preprocessing with lemmatization resulted in NMI = 0.74.\n",
    "\n",
    "As the NMI is rather high, let's check the distribution of documents per cluster."
   ]
  },
  {
   "cell_type": "code",
   "execution_count": 214,
   "id": "dcadae1c",
   "metadata": {},
   "outputs": [
    {
     "data": {
      "image/png": "[encoded data removed]",
      "text/plain": [
       "<Figure size 432x288 with 1 Axes>"
      ]
     },
     "metadata": {
      "needs_background": "light"
     },
     "output_type": "display_data"
    }
   ],
   "source": [
    "plt.title(\"Number of texts in predicted classes\")\n",
    "plt.bar(FreqDist(classes3).keys(), FreqDist(classes3).values(), color='palevioletred')\n",
    "plt.show()"
   ]
  },
  {
   "cell_type": "markdown",
   "id": "796095d3",
   "metadata": {},
   "source": [
    "Let's try to apply PCA to plot the clustered data. Of course, the components do not explain much variance, so plotting the results cannot be interpreted as perfectly correct."
   ]
  },
  {
   "cell_type": "code",
   "execution_count": 215,
   "id": "ca72d0f3",
   "metadata": {},
   "outputs": [],
   "source": [
    "pca = PCA(n_components=2, random_state=2021)\n",
    "pca_vecs = pca.fit_transform(X3.toarray())\n",
    "x0 = pca_vecs[:, 0]\n",
    "x1 = pca_vecs[:, 1]\n",
    "\n",
    "data = pd.DataFrame()\n",
    "data['cluster'] = classes3\n",
    "data['x0'] = x0\n",
    "data['x1'] = x1"
   ]
  },
  {
   "cell_type": "code",
   "execution_count": 216,
   "id": "cab4916b",
   "metadata": {},
   "outputs": [
    {
     "data": {
      "image/png": "[encoded data removed]",
      "text/plain": [
       "<Figure size 720x504 with 1 Axes>"
      ]
     },
     "metadata": {
      "needs_background": "light"
     },
     "output_type": "display_data"
    }
   ],
   "source": [
    "plt.figure(figsize=(10, 7))\n",
    "plt.title(\"TF-IDF + KMeans 5 topics clustering\", fontdict={\"fontsize\": 18})\n",
    "plt.xlabel(\"Component 1\", fontdict={\"fontsize\": 16})\n",
    "plt.ylabel(\"Component 2\", fontdict={\"fontsize\": 16})\n",
    "sns.scatterplot(data=data, x='x0', y='x1', hue='cluster', palette=\"viridis\")\n",
    "plt.show()"
   ]
  },
  {
   "cell_type": "markdown",
   "id": "581590ad",
   "metadata": {},
   "source": [
    "### Clustering - Spectral"
   ]
  },
  {
   "cell_type": "code",
   "execution_count": 217,
   "id": "1e568b13",
   "metadata": {},
   "outputs": [
    {
     "name": "stdout",
     "output_type": "stream",
     "text": [
      "The NMI is:  0.73\n"
     ]
    }
   ],
   "source": [
    "spectral3 = SpectralClustering(n_clusters=5, random_state=2021).fit(X3)\n",
    "classes3_1 = spectral3.labels_\n",
    "\n",
    "nmi3_1 = normalized_mutual_info_score(classes3_1, true_classes, average_method='geometric')\n",
    "print('The NMI is: ', round(nmi3_1,2))"
   ]
  },
  {
   "cell_type": "markdown",
   "id": "bcb85d2e",
   "metadata": {},
   "source": [
    "For spectral clustering the score is lower for ~ 0.03 than for KMeans. But increased in comparison to the lemmatization in 1st modelling."
   ]
  },
  {
   "cell_type": "markdown",
   "id": "22e74c26",
   "metadata": {},
   "source": [
    "## 2.3 Third model"
   ]
  },
  {
   "cell_type": "markdown",
   "id": "0fccb8b9",
   "metadata": {},
   "source": [
    "Here LSA is used to decrease the dimensions, and as it can be seen, it produces much better results."
   ]
  },
  {
   "cell_type": "code",
   "execution_count": 145,
   "id": "992b1f6a",
   "metadata": {},
   "outputs": [],
   "source": [
    "dtm = TfidfVectorizer(ngram_range=(1,3))\n",
    "dtm_mat = dtm.fit_transform(texts3_stage3)"
   ]
  },
  {
   "cell_type": "code",
   "execution_count": 146,
   "id": "8c34c7d0",
   "metadata": {},
   "outputs": [
    {
     "data": {
      "text/plain": [
       "(1332, 256385)"
      ]
     },
     "execution_count": 146,
     "metadata": {},
     "output_type": "execute_result"
    }
   ],
   "source": [
    "dtm_mat.shape"
   ]
  },
  {
   "cell_type": "code",
   "execution_count": 147,
   "id": "8245fd2c",
   "metadata": {},
   "outputs": [
    {
     "name": "stdout",
     "output_type": "stream",
     "text": [
      "Number of LSA components  25  has NMI:  0.8172\n",
      "Number of LSA components  30  has NMI:  0.7928\n",
      "Number of LSA components  35  has NMI:  0.8104\n",
      "Number of LSA components  40  has NMI:  0.7994\n",
      "Number of LSA components  45  has NMI:  0.8149\n",
      "Number of LSA components  50  has NMI:  0.8221\n",
      "Number of LSA components  75  has NMI:  0.8023\n",
      "Number of LSA components  100  has NMI:  0.8003\n",
      "Number of LSA components  125  has NMI:  0.8014\n",
      "Number of LSA components  150  has NMI:  0.7809\n",
      "Number of LSA components  175  has NMI:  0.7863\n",
      "Number of LSA components  200  has NMI:  0.8004\n",
      "Number of LSA components  225  has NMI:  0.7865\n",
      "Number of LSA components  250  has NMI:  0.7451\n",
      "Number of LSA components  275  has NMI:  0.7762\n",
      "Number of LSA components  300  has NMI:  0.7186\n"
     ]
    }
   ],
   "source": [
    "components = [25,30,35,40,45,50,75,100,125,150,175,200,225,250,275,300]\n",
    "nmi_scores = []\n",
    "\n",
    "for n in components:\n",
    "    svd = TruncatedSVD(n_components=n,random_state=2021)\n",
    "    # Since LSA/SVD results are not normalized, we have to redo the normalization:\n",
    "    normalizer = Normalizer(copy=False)\n",
    "    lsa = make_pipeline(svd, normalizer)\n",
    "    tfidf_lsa = lsa.fit_transform(dtm_mat)\n",
    "    kmeans4 = KMeans(n_clusters=5, max_iter=1000, random_state=2021)\n",
    "    kmeans4.fit(tfidf_lsa)\n",
    "    nmi4 = normalized_mutual_info_score(kmeans4.labels_, true_classes, average_method='geometric')\n",
    "    nmi_scores.append(round(nmi4,2))\n",
    "    print(\"Number of LSA components \", n, \" has NMI: \", round(nmi4,4))"
   ]
  },
  {
   "cell_type": "code",
   "execution_count": 149,
   "id": "ae359dff",
   "metadata": {},
   "outputs": [
    {
     "data": {
      "image/png": "[encoded data removed]",
      "text/plain": [
       "<Figure size 432x288 with 1 Axes>"
      ]
     },
     "metadata": {
      "needs_background": "light"
     },
     "output_type": "display_data"
    }
   ],
   "source": [
    "plt.title(\"K-Means on LSA decomposition with different number of components\")\n",
    "plt.plot(components,nmi_scores)\n",
    "plt.xlabel(\"Number of components\")\n",
    "plt.ylabel(\"NMI score\")\n",
    "plt.show()"
   ]
  },
  {
   "cell_type": "markdown",
   "id": "8a8220fc",
   "metadata": {},
   "source": [
    "The results are better than for all the previos models. The best model is for K-Means with LSA decomposition for 50 main components."
   ]
  },
  {
   "cell_type": "markdown",
   "id": "c5a12f73",
   "metadata": {},
   "source": [
    "## 3. Best model choice"
   ]
  },
  {
   "cell_type": "code",
   "execution_count": 152,
   "id": "633d82ab",
   "metadata": {},
   "outputs": [
    {
     "name": "stdout",
     "output_type": "stream",
     "text": [
      "The best achieved NMI:  0.8221\n"
     ]
    }
   ],
   "source": [
    "dtm = TfidfVectorizer(ngram_range=(1,3))\n",
    "dtm_mat = dtm.fit_transform(texts3_stage3)\n",
    "svd = TruncatedSVD(n_components=50,random_state=2021)\n",
    "normalizer = Normalizer(copy=False)\n",
    "lsa = make_pipeline(svd, normalizer)\n",
    "tfidf_lsa = lsa.fit_transform(dtm_mat)\n",
    "kmeans5 = KMeans(n_clusters=5, max_iter=1000, random_state=2021)\n",
    "kmeans5.fit(tfidf_lsa)\n",
    "top_classes = kmeans5.labels_\n",
    "nmi5 = normalized_mutual_info_score(kmeans5.labels_, true_classes, average_method='geometric')\n",
    "print(\"The best achieved NMI: \", round(nmi5,4))"
   ]
  },
  {
   "cell_type": "code",
   "execution_count": 153,
   "id": "804bb9d9",
   "metadata": {},
   "outputs": [
    {
     "data": {
      "image/png": "[encoded data removed]",
      "text/plain": [
       "<Figure size 432x288 with 1 Axes>"
      ]
     },
     "metadata": {
      "needs_background": "light"
     },
     "output_type": "display_data"
    }
   ],
   "source": [
    "plt.title(\"Number of texts in predicted classes for best model\")\n",
    "plt.bar(FreqDist(top_classes).keys(), FreqDist(top_classes).values(), color='palevioletred')\n",
    "plt.show()"
   ]
  },
  {
   "cell_type": "markdown",
   "id": "7f3e29c5",
   "metadata": {},
   "source": [
    "**Most frequent words:**"
   ]
  },
  {
   "cell_type": "code",
   "execution_count": 154,
   "id": "dcee0ebe",
   "metadata": {},
   "outputs": [
    {
     "name": "stdout",
     "output_type": "stream",
     "text": [
      "First topic words:\n"
     ]
    },
    {
     "data": {
      "text/plain": [
       "[('databas', 681),\n",
       " ('data', 583),\n",
       " ('relat', 361),\n",
       " ('system', 308),\n",
       " ('queri', 270),\n",
       " ('model', 192),\n",
       " ('inform', 181),\n",
       " ('approach', 155),\n",
       " ('propos', 137),\n",
       " ('process', 133)]"
      ]
     },
     "execution_count": 154,
     "metadata": {},
     "output_type": "execute_result"
    }
   ],
   "source": [
    "print(\"First topic words:\")\n",
    "top_words_per_topic(0, top_classes, texts3_stage3_1)"
   ]
  },
  {
   "cell_type": "code",
   "execution_count": 155,
   "id": "94b9acf2",
   "metadata": {},
   "outputs": [
    {
     "name": "stdout",
     "output_type": "stream",
     "text": [
      "Second topic words:\n"
     ]
    },
    {
     "data": {
      "text/plain": [
       "[('secur', 676),\n",
       " ('propos', 391),\n",
       " ('scheme', 345),\n",
       " ('encrypt', 318),\n",
       " ('data', 317),\n",
       " ('algorithm', 251),\n",
       " ('cryptographi', 251),\n",
       " ('comput', 231),\n",
       " ('system', 229),\n",
       " ('protocol', 228)]"
      ]
     },
     "execution_count": 155,
     "metadata": {},
     "output_type": "execute_result"
    }
   ],
   "source": [
    "print(\"Second topic words:\")\n",
    "top_words_per_topic(1, top_classes, texts3_stage3_1)"
   ]
  },
  {
   "cell_type": "code",
   "execution_count": 156,
   "id": "116ded02",
   "metadata": {},
   "outputs": [
    {
     "name": "stdout",
     "output_type": "stream",
     "text": [
      "Third topic words:\n"
     ]
    },
    {
     "data": {
      "text/plain": [
       "[('robot', 771),\n",
       " ('control', 325),\n",
       " ('system', 286),\n",
       " ('model', 169),\n",
       " ('perform', 167),\n",
       " ('propos', 143),\n",
       " ('result', 143),\n",
       " ('task', 138),\n",
       " ('develop', 128),\n",
       " ('design', 125)]"
      ]
     },
     "execution_count": 156,
     "metadata": {},
     "output_type": "execute_result"
    }
   ],
   "source": [
    "print(\"Third topic words:\")\n",
    "top_words_per_topic(2, top_classes, texts3_stage3_1)"
   ]
  },
  {
   "cell_type": "code",
   "execution_count": 157,
   "id": "234056fe",
   "metadata": {},
   "outputs": [
    {
     "name": "stdout",
     "output_type": "stream",
     "text": [
      "Fourth topic words:\n"
     ]
    },
    {
     "data": {
      "text/plain": [
       "[('compil', 592),\n",
       " ('program', 384),\n",
       " ('comput', 300),\n",
       " ('code', 260),\n",
       " ('languag', 243),\n",
       " ('optim', 213),\n",
       " ('system', 212),\n",
       " ('gener', 181),\n",
       " ('implement', 178),\n",
       " ('paper', 174)]"
      ]
     },
     "execution_count": 157,
     "metadata": {},
     "output_type": "execute_result"
    }
   ],
   "source": [
    "print(\"Fourth topic words:\")\n",
    "top_words_per_topic(3, top_classes, texts3_stage3_1)"
   ]
  },
  {
   "cell_type": "code",
   "execution_count": 158,
   "id": "d931963c",
   "metadata": {},
   "outputs": [
    {
     "name": "stdout",
     "output_type": "stream",
     "text": [
      "Fifth topic words:\n"
     ]
    },
    {
     "data": {
      "text/plain": [
       "[('imag', 618),\n",
       " ('method', 563),\n",
       " ('detect', 485),\n",
       " ('model', 470),\n",
       " ('propos', 456),\n",
       " ('comput', 388),\n",
       " ('system', 386),\n",
       " ('learn', 331),\n",
       " ('perform', 328),\n",
       " ('network', 323)]"
      ]
     },
     "execution_count": 158,
     "metadata": {},
     "output_type": "execute_result"
    }
   ],
   "source": [
    "print(\"Fifth topic words:\")\n",
    "top_words_per_topic(4, top_classes, texts3_stage3_1)"
   ]
  }
 ],
 "metadata": {
  "kernelspec": {
   "display_name": "Python 3",
   "language": "python",
   "name": "python3"
  },
  "language_info": {
   "codemirror_mode": {
    "name": "ipython",
    "version": 3
   },
   "file_extension": ".py",
   "mimetype": "text/x-python",
   "name": "python",
   "nbconvert_exporter": "python",
   "pygments_lexer": "ipython3",
   "version": "3.8.8"
  }
 },
 "nbformat": 4,
 "nbformat_minor": 5
}
